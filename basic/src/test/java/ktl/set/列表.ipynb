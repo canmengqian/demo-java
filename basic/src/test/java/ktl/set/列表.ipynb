{
 "cells": [
  {
   "cell_type": "markdown",
   "source": [
    "不可变列表和可变列表"
   ],
   "metadata": {
    "collapsed": false
   }
  },
  {
   "cell_type": "code",
   "execution_count": 3,
   "outputs": [
    {
     "name": "stdout",
     "output_type": "stream",
     "text": [
      "添加元素成功\r\n",
      "[1, 2]\r\n",
      "[1, 2, 3, 4]\r\n"
     ]
    }
   ],
   "source": [
    "var list = listOf(1, 2, 3)\n",
    "list = kotlin.runCatching { list.dropLast(1) }\n",
    "    .onFailure { it -> println(it.message) }\n",
    "    .onSuccess { println(\"添加元素成功\") }\n",
    "    .getOrNull() ?: listOf()\n",
    "    println(list)\n",
    "val mutableList = mutableListOf(1, 2, 3)\n",
    "mutableList.add(4)\n",
    "println(mutableList)"
   ],
   "metadata": {
    "collapsed": false,
    "ExecuteTime": {
     "end_time": "2024-06-12T15:27:40.917750Z",
     "start_time": "2024-06-12T15:27:40.522040900Z"
    }
   }
  },
  {
   "cell_type": "markdown",
   "source": [
    "列表常用方法"
   ],
   "metadata": {
    "collapsed": false
   }
  },
  {
   "cell_type": "code",
   "execution_count": 21,
   "outputs": [
    {
     "name": "stdout",
     "output_type": "stream",
     "text": [
      "列表元素:[1, 2, 3]\r\n",
      "反转列表:[3, 2, 1]\r\n",
      "获取满足指定条件的元素个数:1\r\n",
      "将列表分割成指定长度的子列表:[[1, 2], [3]]\r\n",
      "chunk操作:[1, 2]\r\n",
      "chunk操作:[3]\r\n",
      "去重操作前:[1, 2, 3, 1]\r\n",
      "去重操作后:[1, 2, 3]\r\n",
      "drop前列表:[1, 2, 3, 1]\r\n",
      "drop第一个索引元素操作:[2, 3, 1]\r\n",
      "dropLast操作:[1, 2, 3]\r\n",
      "dropWhile操作:[1, 2, 3, 1]\r\n",
      "获取指定下标的元素:2\r\n",
      "列表索引范围:0..3\r\n",
      "列表是否为空:false\r\n",
      "列表是否非空:true\r\n",
      "false\r\n",
      "1123, 2123, 3123, 1123\r\n",
      "指定分隔符,前缀,后缀:[1-2-3-1]\r\n",
      "take操作:[1]\r\n"
     ]
    }
   ],
   "source": [
    "// 构造可变列表\n",
    "var list: MutableList<Int> = mutableListOf<Int>()\n",
    "list.add(1)\n",
    "list.addAll(mutableListOf(2, 3))\n",
    "println(\"列表元素:${list}\")\n",
    "//反转列表\n",
    "val list_1 = list.asReversed()\n",
    "println(\"反转列表:${list_1}\")\n",
    "// 是否包含指定元素\n",
    "list.contains(1)\n",
    "// 获取列表长度\n",
    "list.count()\n",
    "// 获取满足指定条件的元素个数\n",
    "var cnt_2 = list.count { it > 2 }\n",
    "println(\"获取满足指定条件的元素个数:${cnt_2}\")\n",
    "// 将列表分割成指定长度的子列表\n",
    "val chunk = list.chunked(2)\n",
    "println(\"将列表分割成指定长度的子列表:${chunk}\")\n",
    "list.chunked(2, { println(\"chunk操作:${it}\") })\n",
    "// 去重操作\n",
    "list.add(1)\n",
    "println(\"去重操作前:${list}\")\n",
    "//去重操作转为不可变列表\n",
    "var list_2 = list.distinct()\n",
    "println(\"去重操作后:${list_2}\")\n",
    "// drop会产生一个新只读列表而不会修改原列表\n",
    "println(\"drop前列表:${list}\")\n",
    "val list_3 = list.drop(1)\n",
    "println(\"drop第一个索引元素操作:${list_3}\")\n",
    "\n",
    "val list_4 = list.dropLast(1)\n",
    "println(\"dropLast操作:${list_4}\")\n",
    "// 按条件去除\n",
    "val list_5 = list.dropWhile { it >= 2 }\n",
    "println(\"dropWhile操作:${list_5}\")\n",
    "// 遍历\n",
    "// 查找和快速查找\n",
    "// 过滤\n",
    "// map操作\n",
    "// 填充\n",
    "println(\"获取指定下标的元素:${list.get(1)}\")\n",
    "// 按值获取对应的索引下标\n",
    "list.indexOf(0)\n",
    "// 获取条件成立的第一个下标\n",
    "list.indexOfFirst { it == 2 }\n",
    "// 获取条件成立的最后一个下标\n",
    "list.indexOfLast { it == 2 }\n",
    "println(\"列表索引范围:${list.indices}\")\n",
    "println(\"列表是否为空:${list.isEmpty()}\")\n",
    "println(\"列表是否非空:${list.isNotEmpty()}\")\n",
    "println(list.isNullOrEmpty())\n",
    "// 迭代器模式遍历\n",
    "list.iterator().forEach { it }\n",
    "//list.joinTo()\n",
    "// 将列表转换为字符串\n",
    "println(list.joinToString { it.toString() + \"123\" })\n",
    "println(\"指定分隔符,前缀,后缀:\" + list.joinToString(\"-\", \"[\", \"]\"))\n",
    "var list_6 = list.take(1)\n",
    "println(\"take操作:${list_6}\")\n",
    "list.last()\n",
    "list.lastIndex\n",
    "list.lastOrNull()\n",
    "list.lastOrNull { it > 8 }\n",
    "list.map { it + 2 }\n",
    "list.mapIndexed({ index, item -> index + item })\n",
    "list.mapNotNull {  }\n",
    "list.onEach { it }\n",
    "list.onEachIndexed({ index, item -> println(\"index:${index},item:${item}\")})\n",
    "list.remove(1)\n",
    "list.removeAll { it > 2 }\n",
    "list.removeAt(1)\n",
    "list.removeFirst()\n",
    "list.removeFirstOrNull()\n",
    "list.removeLast()\n",
    "list.removeLastOrNull()\n",
    "list.reversed()\n",
    "list.set(1,2)\n",
    "list.shuffle()\n",
    "list.shuffled()\n",
    "list.sorted()\n",
    "list.size\n",
    "list.sum()\n",
    "list.subList(0,3)\n",
    "list.windowed(2)\n",
    "//list.zip()\n"
   ],
   "metadata": {
    "collapsed": false,
    "ExecuteTime": {
     "end_time": "2024-06-13T03:35:29.871858600Z",
     "start_time": "2024-06-13T03:35:29.412579200Z"
    }
   }
  },
  {
   "cell_type": "markdown",
   "source": [
    "Set操作"
   ],
   "metadata": {
    "collapsed": false
   }
  },
  {
   "cell_type": "code",
   "execution_count": null,
   "outputs": [],
   "source": [
    "val st = setOf(1, 2, 3)\n",
    "st.toList()"
   ],
   "metadata": {
    "collapsed": false
   }
  },
  {
   "cell_type": "markdown",
   "source": [
    "map操作"
   ],
   "metadata": {
    "collapsed": false
   }
  },
  {
   "cell_type": "code",
   "execution_count": 23,
   "outputs": [
    {
     "name": "stdout",
     "output_type": "stream",
     "text": [
      "获取键值对:[1=a, 2=b, 3=c]\r\n",
      "获取键:[1, 2, 3]\r\n",
      "获取值:[a, b, c]\r\n"
     ]
    }
   ],
   "source": [
    "var map = mapOf(1 to \"a\", 2 to \"b\", 3 to \"c\")\n",
    "\n",
    "println(\"获取键值对:${map.entries}\")\n",
    "println(\"获取键:${map.keys}\")\n",
    "println(\"获取值:${map.values}\")"
   ],
   "metadata": {
    "collapsed": false,
    "ExecuteTime": {
     "end_time": "2024-06-13T06:07:27.005914300Z",
     "start_time": "2024-06-13T06:07:26.262577600Z"
    }
   }
  }
 ],
 "metadata": {
  "kernelspec": {
   "display_name": "Kotlin",
   "language": "kotlin",
   "name": "kotlin"
  },
  "language_info": {
   "name": "kotlin",
   "version": "1.8.20",
   "mimetype": "text/x-kotlin",
   "file_extension": ".kt",
   "pygments_lexer": "kotlin",
   "codemirror_mode": "text/x-kotlin",
   "nbconvert_exporter": ""
  },
  "ktnbPluginMetadata": {
   "projectDependencies": true
  }
 },
 "nbformat": 4,
 "nbformat_minor": 0
}
