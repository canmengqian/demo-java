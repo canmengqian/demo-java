{
 "cells": [
  {
   "cell_type": "markdown",
   "source": [
    "with函数"
   ],
   "metadata": {
    "collapsed": false
   }
  },
  {
   "cell_type": "code",
   "outputs": [
    {
     "name": "stdout",
     "output_type": "stream",
     "text": [
      "李四 eat\r\n",
      "李四 work 了8 小时,赚了 800 块钱\r\n"
     ]
    }
   ],
   "source": [
    "class Person(var name: String) {\n",
    "    fun eat(){\n",
    "        println(\"$name eat\")\n",
    "    }\n",
    "    \n",
    "    fun work(hour: Int){\n",
    "        println(\"$name work 了$hour 小时,赚了 ${hour * 100} 块钱\")\n",
    "    }\n",
    "}\n",
    "val person=Person(\"张三\")\n",
    "with(person){\n",
    "    name=\"李四\"\n",
    "    eat()\n",
    "    work(8)\n",
    "}"
   ],
   "metadata": {
    "collapsed": false,
    "ExecuteTime": {
     "end_time": "2024-06-13T15:21:46.134625800Z",
     "start_time": "2024-06-13T15:21:45.938952900Z"
    }
   },
   "execution_count": 2
  },
  {
   "cell_type": "markdown",
   "source": [
    "also函数"
   ],
   "metadata": {
    "collapsed": false
   }
  },
  {
   "cell_type": "code",
   "outputs": [
    {
     "name": "stdout",
     "output_type": "stream",
     "text": [
      "李四 eat\r\n",
      "李四 work 了8 小时,赚了 800 块钱\r\n"
     ]
    },
    {
     "data": {
      "text/plain": "Line_2_jupyter$Person@4e06dc2e"
     },
     "execution_count": 3,
     "metadata": {},
     "output_type": "execute_result"
    }
   ],
   "source": [
    "val person = Person(\"张三\")\n",
    "person.also { \n",
    "    it.name=\"李四\"\n",
    "    it.eat()\n",
    "    it.work(8)\n",
    "}"
   ],
   "metadata": {
    "collapsed": false,
    "ExecuteTime": {
     "end_time": "2024-06-13T15:23:02.148754800Z",
     "start_time": "2024-06-13T15:23:01.841964800Z"
    }
   },
   "execution_count": 3
  },
  {
   "cell_type": "markdown",
   "source": [
    "apply函数"
   ],
   "metadata": {
    "collapsed": false
   }
  },
  {
   "cell_type": "code",
   "outputs": [
    {
     "name": "stdout",
     "output_type": "stream",
     "text": [
      "李四 eat\r\n",
      "李四 work 了8 小时,赚了 800 块钱\r\n"
     ]
    },
    {
     "data": {
      "text/plain": "Line_2_jupyter$Person@2bb777fa"
     },
     "execution_count": 4,
     "metadata": {},
     "output_type": "execute_result"
    }
   ],
   "source": [
    "val person=Person(\"张三\")\n",
    "person.apply { \n",
    "    name=\"李四\"\n",
    "    eat()\n",
    "    work(8)\n",
    "}"
   ],
   "metadata": {
    "collapsed": false,
    "ExecuteTime": {
     "end_time": "2024-06-13T15:24:31.820252300Z",
     "start_time": "2024-06-13T15:24:31.667223400Z"
    }
   },
   "execution_count": 4
  }
 ],
 "metadata": {
  "kernelspec": {
   "display_name": "Kotlin",
   "language": "kotlin",
   "name": "kotlin"
  },
  "language_info": {
   "name": "kotlin",
   "version": "1.9.0",
   "mimetype": "text/x-kotlin",
   "file_extension": ".kt",
   "pygments_lexer": "kotlin",
   "codemirror_mode": "text/x-kotlin",
   "nbconvert_exporter": ""
  }
 },
 "nbformat": 4,
 "nbformat_minor": 0
}
