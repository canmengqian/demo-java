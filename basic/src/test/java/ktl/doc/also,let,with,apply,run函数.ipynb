{
 "cells": [
  {
   "cell_type": "markdown",
   "source": [
    "内置函数\n",
    "1. 使当前对象访问,限定了属性作用域，减少空指针异常\n",
    "2. 可以加入非空访问符,对象为空时不调用函数\n",
    "3. 返回值是自身，需要以return@with,return@also,return@run 格式返回\n",
    "4. 方法体内最后一行是返回值\n",
    "        "
   ],
   "metadata": {
    "collapsed": false
   }
  },
  {
   "cell_type": "markdown",
   "source": [
    "with函数\n",
    "1. 使用this访问"
   ],
   "metadata": {
    "collapsed": false
   }
  },
  {
   "cell_type": "code",
   "outputs": [
    {
     "name": "stdout",
     "output_type": "stream",
     "text": [
      "person hashcode:1804166400\r\n",
      "李四 eat\r\n",
      "李四 work 了8 小时,赚了 800 块钱\r\n",
      "with v_1 person hashcode:1035680088\r\n",
      "v_1 name:kotlin.Unit\r\n",
      "with v_2 person hashcode:1804166400\r\n",
      "v_2 name:Line_25_jupyter$Person\r\n"
     ]
    }
   ],
   "source": [
    "class Person(var name: String) {\n",
    "    fun eat() {\n",
    "        println(\"$name eat\")\n",
    "    }\n",
    "\n",
    "    fun work(hour: Int) {\n",
    "        println(\"$name work 了$hour 小时,赚了 ${hour * 100} 块钱\")\n",
    "    }\n",
    "}\n",
    "// 设置可空类型\n",
    "var person: Person?= null\n",
    "person = Person(\"张三\")\n",
    "println(\"person hashcode:${person.hashCode()}\")\n",
    "val v_1 = with(person) {\n",
    "    // 强制断言不为空,如果为空时抛出异常\n",
    "    this!!.name = \"李四\"\n",
    "    eat()\n",
    "    work(8)\n",
    "    // 返回了新实例,返回with本身\n",
    "    return@with\n",
    "}\n",
    "println(\"with v_1 person hashcode:${v_1.hashCode()}\")\n",
    "println(\"v_1 name:${v_1.javaClass.name}\")\n",
    "val v_2 = with(person) {\n",
    "    this!!.name = \"王五\"\n",
    "    this\n",
    "}\n",
    "\n",
    "println(\"with v_2 person hashcode:${v_2.hashCode()}\")\n",
    "println(\"v_2 name:${v_2.javaClass.name}\")\n",
    "\n",
    "val v_3 = with(person) {\n",
    "}\n"
   ],
   "metadata": {
    "collapsed": false,
    "ExecuteTime": {
     "end_time": "2024-06-14T03:31:18.314365500Z",
     "start_time": "2024-06-14T03:31:17.770703600Z"
    }
   },
   "execution_count": 23
  },
  {
   "cell_type": "markdown",
   "source": [
    "also函数\n",
    "1. 使用it访问"
   ],
   "metadata": {
    "collapsed": false
   }
  },
  {
   "cell_type": "code",
   "outputs": [
    {
     "name": "stdout",
     "output_type": "stream",
     "text": [
      "person hashcode:1877604164\r\n",
      "李四 eat\r\n",
      "李四 work 了8 小时,赚了 800 块钱\r\n",
      "also person hashcode:1877604164\r\n",
      "李四\r\n",
      "王五 eat\r\n",
      "王五 work 了10 小时,赚了 1000 块钱\r\n",
      "also person hashcode:1877604164\r\n"
     ]
    }
   ],
   "source": [
    "val person = Person(\"张三\")\n",
    "println(\"person hashcode:${person.hashCode()}\")\n",
    "// 返回自身引用\n",
    "val a_1: Person = person.also {\n",
    "    it.name = \"李四\"\n",
    "    it.eat()\n",
    "    it.work(8)\n",
    "    return@also\n",
    "}\n",
    "println(\"also person hashcode:${a_1.hashCode()}\")\n",
    "println(a_1.name)\n",
    "// 可以加入非空访问符,对象为空时不调用also函数\n",
    "val a_2=person?.also {\n",
    "    it.name = \"王五\"\n",
    "    it.eat()\n",
    "    it.work(10)\n",
    "    it\n",
    "}\n",
    "println(\"also person hashcode:${a_2?.hashCode()}\")"
   ],
   "metadata": {
    "collapsed": false,
    "ExecuteTime": {
     "end_time": "2024-06-14T03:21:06.113060600Z",
     "start_time": "2024-06-14T03:21:05.737912500Z"
    }
   },
   "execution_count": 16
  },
  {
   "cell_type": "markdown",
   "source": [
    "apply函数\n",
    "1. 使用this访问\n",
    "2. return表达式返回原实例对象"
   ],
   "metadata": {
    "collapsed": false
   }
  },
  {
   "cell_type": "code",
   "outputs": [
    {
     "name": "stdout",
     "output_type": "stream",
     "text": [
      " person hashcode:1567524324\r\n",
      "李四 eat\r\n",
      "李四 work 了8 小时,赚了 800 块钱\r\n",
      "apply person hashcode:1567524324\r\n",
      "王五 eat\r\n",
      "王五 work 了8 小时,赚了 800 块钱\r\n",
      "apply person hashcode:1567524324\r\n"
     ]
    }
   ],
   "source": [
    "val person = Person(\"张三\")\n",
    "println(\" person hashcode:${person.hashCode()}\")\n",
    "val a_1 = person.apply {\n",
    "    name = \"李四\"\n",
    "    eat()\n",
    "    work(8)\n",
    "    return@apply\n",
    "}\n",
    "println(\"apply person hashcode:${a_1.hashCode()}\")\n",
    "val a_2 = person.apply {\n",
    "    name = \"王五\"\n",
    "    eat()\n",
    "    work(8)\n",
    "    this\n",
    "}\n",
    "println(\"apply person hashcode:${a_2.hashCode()}\")"
   ],
   "metadata": {
    "collapsed": false,
    "ExecuteTime": {
     "end_time": "2024-06-14T03:22:27.608226400Z",
     "start_time": "2024-06-14T03:22:27.373231700Z"
    }
   },
   "execution_count": 17
  },
  {
   "cell_type": "markdown",
   "source": [
    "run函数\n",
    "1. 使用this访问"
   ],
   "metadata": {
    "collapsed": false
   }
  },
  {
   "cell_type": "code",
   "execution_count": 9,
   "outputs": [
    {
     "name": "stdout",
     "output_type": "stream",
     "text": [
      "person hashcode:1974616757\r\n",
      "李四 eat\r\n",
      "李四 work 了8 小时,赚了 800 块钱\r\n",
      "run person hashcode:1974616757\r\n"
     ]
    }
   ],
   "source": [
    "val person = Person(\"张三\")\n",
    "println(\"person hashcode:${person.hashCode()}\")\n",
    "val r_1 = person.run {\n",
    "    name = \"李四\"\n",
    "    eat()\n",
    "    work(8)\n",
    "    return@run\n",
    "}\n",
    "println(\"run person hashcode:${person.hashCode()}\")"
   ],
   "metadata": {
    "collapsed": false,
    "ExecuteTime": {
     "end_time": "2024-06-14T03:11:11.747781100Z",
     "start_time": "2024-06-14T03:11:11.590080100Z"
    }
   }
  },
  {
   "cell_type": "markdown",
   "source": [
    "let函数\n",
    "1. 使用it访问"
   ],
   "metadata": {
    "collapsed": false
   }
  },
  {
   "cell_type": "code",
   "execution_count": 10,
   "outputs": [
    {
     "name": "stdout",
     "output_type": "stream",
     "text": [
      "李四 eat\r\n",
      "李四 work 了8 小时,赚了 800 块钱\r\n",
      "李四 eat\r\n",
      "李四 work 了8 小时,赚了 800 块钱\r\n",
      "工作了9 小时\r\n"
     ]
    }
   ],
   "source": [
    "val person = Person(\"张三\")\n",
    "person.let {\n",
    "    it.name = \"李四\"\n",
    "    it.eat()\n",
    "    it.work(8)\n",
    "    return@let\n",
    "}\n",
    "val workHour = person.let {\n",
    "    it.name = \"李四\"\n",
    "    it.eat()\n",
    "    it.work(8)\n",
    "    9\n",
    "}\n",
    "println(\"工作了$workHour 小时\")"
   ],
   "metadata": {
    "collapsed": false,
    "ExecuteTime": {
     "end_time": "2024-06-14T03:14:42.048039Z",
     "start_time": "2024-06-14T03:14:41.644788200Z"
    }
   }
  }
 ],
 "metadata": {
  "kernelspec": {
   "display_name": "Kotlin",
   "language": "kotlin",
   "name": "kotlin"
  },
  "language_info": {
   "name": "kotlin",
   "version": "1.9.0",
   "mimetype": "text/x-kotlin",
   "file_extension": ".kt",
   "pygments_lexer": "kotlin",
   "codemirror_mode": "text/x-kotlin",
   "nbconvert_exporter": ""
  }
 },
 "nbformat": 4,
 "nbformat_minor": 0
}
