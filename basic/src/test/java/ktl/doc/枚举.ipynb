{
 "cells": [
  {
   "cell_type": "markdown",
   "source": [
    "枚举\n",
    "1. 枚举类可以有自己的成员方法和抽象方法"
   ],
   "metadata": {
    "collapsed": false
   }
  },
  {
   "cell_type": "code",
   "outputs": [
    {
     "name": "stdout",
     "output_type": "stream",
     "text": [
      "red\r\n",
      "red\r\n"
     ]
    }
   ],
   "source": [
    "enum class  Color(name:String){\n",
    "    red(\"R\"),\n",
    "    green(\"G\"),\n",
    "    blue(\"B\")\n",
    "}\n",
    "println(Color.red)\n",
    "println(Color.red.name)"
   ],
   "metadata": {
    "collapsed": false,
    "ExecuteTime": {
     "end_time": "2024-06-13T14:40:28.062875400Z",
     "start_time": "2024-06-13T14:40:26.819435400Z"
    }
   },
   "execution_count": 1
  },
  {
   "cell_type": "markdown",
   "source": [
    "带参枚举"
   ],
   "metadata": {
    "collapsed": false
   }
  },
  {
   "cell_type": "code",
   "outputs": [
    {
     "name": "stdout",
     "output_type": "stream",
     "text": [
      "3.14\r\n"
     ]
    }
   ],
   "source": [
    "interface Area{\n",
    "    fun getArea():Double\n",
    "}\n",
    "enum class Shape(val area:Area){\n",
    "    Circle(object:Area{\n",
    "        override fun getArea(): Double {\n",
    "            return 3.14\n",
    "        }\n",
    "    }),\n",
    "    Square(object:Area{\n",
    "        override fun getArea(): Double {\n",
    "            return 4.0\n",
    "        }\n",
    "    })\n",
    "}\n",
    "println(Shape.Circle.area.getArea())"
   ],
   "metadata": {
    "collapsed": false,
    "ExecuteTime": {
     "end_time": "2024-06-16T04:07:24.626935800Z",
     "start_time": "2024-06-16T04:07:23.912210900Z"
    }
   },
   "execution_count": 1
  },
  {
   "cell_type": "markdown",
   "source": [
    "枚举实现接口"
   ],
   "metadata": {
    "collapsed": false
   }
  },
  {
   "cell_type": "code",
   "outputs": [
    {
     "name": "stdout",
     "output_type": "stream",
     "text": [
      "3.14\r\n"
     ]
    }
   ],
   "source": [
    "interface Area{\n",
    "    fun getArea():Double\n",
    "}\n",
    "// 枚举实现接口\n",
    "enum class Shape: Area{\n",
    "    Circle{\n",
    "        override fun getArea(): Double {\n",
    "            return 3.14\n",
    "        }\n",
    "    }\n",
    "}\n",
    "println(Shape.Circle.getArea())"
   ],
   "metadata": {
    "collapsed": false,
    "ExecuteTime": {
     "end_time": "2024-06-16T05:14:36.981152600Z",
     "start_time": "2024-06-16T05:14:36.799629900Z"
    }
   },
   "execution_count": 2
  },
  {
   "cell_type": "markdown",
   "source": [
    "枚举类的抽象方法,init方法,伴生类"
   ],
   "metadata": {
    "collapsed": false
   }
  },
  {
   "cell_type": "code",
   "outputs": [
    {
     "name": "stdout",
     "output_type": "stream",
     "text": [
      "1\r\n",
      "今天是星期一\r\n",
      "执行成员方法1\r\n",
      "执行抽象方法今天是星期一\r\n",
      "枚举类实例个数7\r\n",
      "wkname is 星期一\r\n",
      "value is Monday\r\n",
      "value is Tuesday\r\n",
      "value is Wednesday\r\n",
      "value is Thursday\r\n",
      "value is Friday\r\n",
      "value is Saturday\r\n",
      "value is Sunday\r\n",
      " entry is Monday\r\n",
      " entry is Tuesday\r\n",
      " entry is Wednesday\r\n",
      " entry is Thursday\r\n",
      " entry is Friday\r\n",
      " entry is Saturday\r\n",
      " entry is Sunday\r\n"
     ]
    }
   ],
   "source": [
    "enum class Weekend(var day: Int) {\n",
    "\n",
    "    Monday(1) {\n",
    "        override fun doSomething(): String {\n",
    "            return \"今天是星期一\"\n",
    "        }\n",
    "    },\n",
    "    Tuesday(2) {\n",
    "        override fun doSomething(): String {\n",
    "            TODO(\"Not yet implemented\")\n",
    "        }\n",
    "    },\n",
    "    Wednesday(3) {\n",
    "        override fun doSomething(): String {\n",
    "            TODO(\"Not yet implemented\")\n",
    "        }\n",
    "    },\n",
    "    Thursday(4) {\n",
    "        override fun doSomething(): String {\n",
    "            TODO(\"Not yet implemented\")\n",
    "        }\n",
    "    },\n",
    "    Friday(5) {\n",
    "        override fun doSomething(): String {\n",
    "            TODO(\"Not yet implemented\")\n",
    "        }\n",
    "    },\n",
    "    Saturday(6) {\n",
    "        override fun doSomething(): String {\n",
    "            TODO(\"Not yet implemented\")\n",
    "        }\n",
    "    },\n",
    "    Sunday(7) {\n",
    "        override fun doSomething(): String {\n",
    "            TODO(\"Not yet implemented\")\n",
    "        }\n",
    "    };\n",
    "\n",
    "    var wkname: String = \"\"\n",
    "\n",
    "    init {\n",
    "        when (day) {\n",
    "            1 -> wkname = \"星期一\"\n",
    "            2 -> wkname = \"星期二\"\n",
    "            3 -> wkname = \"星期三\"\n",
    "            4 -> wkname = \"星期四\"\n",
    "            5 -> wkname = \"星期五\"\n",
    "            6 -> wkname = \"星期六\"\n",
    "            7 -> wkname = \"星期日\"\n",
    "        }\n",
    "    };\n",
    "\n",
    "    // 抽象方法,枚举实例需要实现该方法\n",
    "    abstract fun doSomething(): String;\n",
    "\n",
    "    // 枚举类的成员方法\n",
    "    fun getDay_1(): Int {\n",
    "        return day\n",
    "    }\n",
    "\n",
    "    // 伴生类\n",
    "    companion object {\n",
    "        fun getDaySize(): Int {\n",
    "            return Weekend.entries.size\n",
    "        }\n",
    "    }\n",
    "\n",
    "    //TODO 无用构造器?\n",
    "    constructor(wkname: String, day: Int) : this(day) {\n",
    "        this.wkname = wkname\n",
    "        this.day = day\n",
    "    }\n",
    "}\n",
    "println(Weekend.Monday.day)\n",
    "// 获取属性\n",
    "println(\"今天是${Weekend.Monday.wkname}\")\n",
    "println(\"执行成员方法\" + Weekend.Monday.getDay_1())\n",
    "println(\"执行抽象方法\" + Weekend.Monday.doSomething())\n",
    "// 伴生类\n",
    "println(\"枚举类实例个数\" + Weekend.getDaySize())\n",
    "Weekend.Monday.let { println(\"wkname is ${it.wkname}\") }\n",
    "// 获取所有的value\n",
    "Weekend.values().toList().let { it.forEach { println(\"value is $it\") } }\n",
    "// \n",
    "Weekend.entries.toList().let { it.forEach { println(\" entry is $it\") } }"
   ],
   "metadata": {
    "collapsed": false,
    "ExecuteTime": {
     "end_time": "2024-06-16T06:17:15.635676900Z",
     "start_time": "2024-06-16T06:17:15.058876Z"
    }
   },
   "execution_count": 3
  }
 ],
 "metadata": {
  "kernelspec": {
   "display_name": "Kotlin",
   "language": "kotlin",
   "name": "kotlin"
  },
  "language_info": {
   "name": "kotlin",
   "version": "1.9.0",
   "mimetype": "text/x-kotlin",
   "file_extension": ".kt",
   "pygments_lexer": "kotlin",
   "codemirror_mode": "text/x-kotlin",
   "nbconvert_exporter": ""
  }
 },
 "nbformat": 4,
 "nbformat_minor": 0
}
