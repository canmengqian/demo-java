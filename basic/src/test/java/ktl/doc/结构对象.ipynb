{
 "cells": [
  {
   "cell_type": "markdown",
   "source": [
    "对象结构\n",
    "1. Pair,Triple 对象解构\n",
    "2. 数据类对象解构\n",
    "3. 普通对象解构\n",
    "4. list,map,数组解构"
   ],
   "metadata": {
    "collapsed": false
   }
  },
  {
   "cell_type": "code",
   "outputs": [
    {
     "name": "stdout",
     "output_type": "stream",
     "text": [
      "name: , age: 0\r\n",
      "name: zhangsan, age: 18\r\n",
      "name: lisi, age: 19, male: 男, city: 北京\r\n"
     ]
    }
   ],
   "source": [
    "class Student() {\n",
    "    var name: String? = null;\n",
    "    var age: Int? = null;\n",
    "    val male:String = \"男\";\n",
    "    val city:String = \"北京\";\n",
    "\n",
    "    constructor(name: String, age: Int) : this() {\n",
    "        this.name = name;\n",
    "        this.age = age;\n",
    "    }\n",
    "\n",
    "    operator fun component1(): String {\n",
    "        return name ?: \"\";\n",
    "    }\n",
    "\n",
    "    operator fun component2(): Int {\n",
    "        return age ?: 0;\n",
    "    }\n",
    "    operator fun component3(): String {\n",
    "        return male;\n",
    "    }\n",
    "\n",
    "}\n",
    "\n",
    "var student = Student();\n",
    "var (name, age) = student;\n",
    "println(\"name: $name, age: $age\");\n",
    "// pair对象\n",
    "val std_1 = \"zhangsan\" to 18\n",
    "var (name_1, age_1) = std_1\n",
    "println(\"name: $name_1, age: $age_1\")\n",
    "// 多个属性\n",
    "val std_2 = Student(\"lisi\", 19)\n",
    "var (name_2, age_2, male_2) = std_2\n",
    "println(\"name: $name_2, age: $age_2, male: $male_2, city: ${std_2.city}\")\n"
   ],
   "metadata": {
    "collapsed": false,
    "ExecuteTime": {
     "end_time": "2024-06-16T11:04:41.751852700Z",
     "start_time": "2024-06-16T11:04:41.285584500Z"
    }
   },
   "execution_count": 4
  },
  {
   "cell_type": "markdown",
   "source": [
    "Pair和Triple对象解构"
   ],
   "metadata": {
    "collapsed": false
   }
  },
  {
   "cell_type": "code",
   "outputs": [
    {
     "name": "stdout",
     "output_type": "stream",
     "text": [
      "name: zhangsan, age: 18\r\n",
      "name: zhangsan, age: 18\r\n",
      "name: zhangsan, age: 18, sex: 男\r\n"
     ]
    }
   ],
   "source": [
    "val pair = Pair(\"zhangsan\", 18)\n",
    "var (name, age) = pair\n",
    "println(\"name: $name, age: $age\")\n",
    "val pair_1 = \"lisi\" to 19\n",
    "var (name_2, age_2) = pair_1\n",
    "println(\"name: $name, age: $age\")\n",
    "\n",
    "val triple = Triple(\"zhangsan\", 18, \"男\")\n",
    "var (name_1, age_1, sex) = triple\n",
    "println(\"name: $name_1, age: $age_1, sex: $sex\")"
   ],
   "metadata": {
    "collapsed": false,
    "ExecuteTime": {
     "end_time": "2024-06-16T11:32:13.343255900Z",
     "start_time": "2024-06-16T11:32:13.086301100Z"
    }
   },
   "execution_count": 6
  },
  {
   "cell_type": "markdown",
   "source": [
    "数据类对象解构"
   ],
   "metadata": {
    "collapsed": false
   }
  },
  {
   "cell_type": "code",
   "outputs": [],
   "source": [
    "data class Student(var name: String, var age: Int) {\n",
    "    val male:String = \"男\";\n",
    "    val city:String = \"北京\";\n",
    "    operator fun component3(): String {\n",
    "        return male;\n",
    "    }\n",
    "    operator fun component4(): String {\n",
    "        return city;\n",
    "    }\n",
    "}\n",
    "var student = Student(\"zhangsan\", 18)\n",
    "var (name, age) = student\n",
    "println(\"name: $name, age: $age\")\n",
    "var (name_1, age_1, male_1, city_1) = student\n",
    "println(\"name: $name_1, age: $age_1, male: $male_1, city: $city_1\")"
   ],
   "metadata": {
    "collapsed": false
   }
  },
  {
   "cell_type": "markdown",
   "source": [
    "list,map,数组解构"
   ],
   "metadata": {
    "collapsed": false
   }
  },
  {
   "cell_type": "code",
   "outputs": [
    {
     "name": "stdout",
     "output_type": "stream",
     "text": [
      "name: zhangsan, age: 18, sex: 男\r\n"
     ]
    }
   ],
   "source": [
    "val list = listOf(\"zhangsan\", 18, \"男\")\n",
    "var (name, age, sex) = list\n",
    "println(\"name: $name, age: $age, sex: $sex\")\n",
    "val map = mapOf(\"name\" to \"zhangsan\", \"age\" to \"18\", \"sex\" to \"男\")\n",
    "var (name_1, age_1, sex_1) = map\n",
    "println(\"name: $name_1, age: $age_1, sex: $sex_1\")"
   ],
   "metadata": {
    "collapsed": false,
    "ExecuteTime": {
     "end_time": "2024-06-16T14:54:26.007443500Z",
     "start_time": "2024-06-16T14:54:25.553121500Z"
    }
   },
   "execution_count": 7
  }
 ],
 "metadata": {
  "kernelspec": {
   "display_name": "Kotlin",
   "language": "kotlin",
   "name": "kotlin"
  },
  "language_info": {
   "name": "kotlin",
   "version": "1.9.0",
   "mimetype": "text/x-kotlin",
   "file_extension": ".kt",
   "pygments_lexer": "kotlin",
   "codemirror_mode": "text/x-kotlin",
   "nbconvert_exporter": ""
  }
 },
 "nbformat": 4,
 "nbformat_minor": 0
}
