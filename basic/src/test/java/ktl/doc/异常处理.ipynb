{
 "cells": [
  {
   "cell_type": "markdown",
   "source": [
    "java 方式异常 异常处理 "
   ],
   "metadata": {
    "collapsed": false
   }
  },
  {
   "cell_type": "code",
   "execution_count": 2,
   "outputs": [
    {
     "name": "stdout",
     "output_type": "stream",
     "text": [
      "/ by zero\r\n",
      "1\r\n"
     ]
    }
   ],
   "source": [
    "val num = try {\n",
    "    1 / 0\n",
    "} catch (e: Exception) {\n",
    "    println(e.message)\n",
    "    1\n",
    "} finally {\n",
    "    2\n",
    "}\n",
    "println(num)"
   ],
   "metadata": {
    "collapsed": false,
    "ExecuteTime": {
     "end_time": "2024-06-13T07:00:54.177082600Z",
     "start_time": "2024-06-13T07:00:53.906965100Z"
    }
   }
  },
  {
   "cell_type": "markdown",
   "source": [
    "简写 方式异常"
   ],
   "metadata": {
    "collapsed": false
   }
  },
  {
   "cell_type": "code",
   "execution_count": 3,
   "outputs": [
    {
     "name": "stdout",
     "output_type": "stream",
     "text": [
      "Success(1)\r\n"
     ]
    }
   ],
   "source": [
    "val num = kotlin.runCatching { 1 / 0 }.recover { 1 }\n",
    "println(num)"
   ],
   "metadata": {
    "collapsed": false,
    "ExecuteTime": {
     "end_time": "2024-06-13T07:02:42.466436400Z",
     "start_time": "2024-06-13T07:02:42.185973900Z"
    }
   }
  }
 ],
 "metadata": {
  "kernelspec": {
   "display_name": "Kotlin",
   "language": "kotlin",
   "name": "kotlin"
  },
  "language_info": {
   "name": "kotlin",
   "version": "1.8.20",
   "mimetype": "text/x-kotlin",
   "file_extension": ".kt",
   "pygments_lexer": "kotlin",
   "codemirror_mode": "text/x-kotlin",
   "nbconvert_exporter": ""
  },
  "ktnbPluginMetadata": {
   "projectDependencies": true
  }
 },
 "nbformat": 4,
 "nbformat_minor": 0
}
