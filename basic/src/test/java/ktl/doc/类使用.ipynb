{
 "cells": [
  {
   "cell_type": "markdown",
   "source": [
    "使用主构造函数"
   ],
   "metadata": {
    "collapsed": false
   }
  },
  {
   "cell_type": "code",
   "execution_count": 4,
   "outputs": [
    {
     "name": "stdout",
     "output_type": "stream",
     "text": [
      "初始化方法\r\n",
      "男\r\n",
      "初始化方法\r\n",
      "男\r\n",
      "初始化方法\r\n",
      "human_2个人信息：男, 张三\r\n"
     ]
    }
   ],
   "source": [
    "import cn.hutool.core.text.CharSequenceUtil\n",
    "\n",
    "class Human(var sex: String) {\n",
    "    var name: String = \"\"\n",
    "        get() {\n",
    "            println(\"get方法被调用\")\n",
    "            return name\n",
    "        }\n",
    "        set(value) {\n",
    "            field = value\n",
    "        }\n",
    "\n",
    "    init {\n",
    "        println(\"初始化方法\")\n",
    "        if (CharSequenceUtil.isBlank(sex)) {\n",
    "            sex = \"男\"\n",
    "        }\n",
    "    }\n",
    "\n",
    "    companion object {\n",
    "        open fun desc() {\n",
    "            println(\"我是伴生对象,可以不用实例化对象调用\")\n",
    "        }\n",
    "    }\n",
    "\n",
    "    // 次级构造函数必须调用主构造函数\n",
    "    constructor(name: String, sex: String) : this(sex) {\n",
    "        this.name = name\n",
    "    }\n",
    "}\n",
    "\n",
    "val human = Human(\"男\")\n",
    "println(human.sex)\n",
    "println(human.sex)\n",
    "val human_1 = Human(\"\")\n",
    "println(human_1.sex)\n",
    "\n",
    "val human_2 = Human(\"张三\", \"男\")\n",
    "println(\"human_2个人信息：${human_2.sex}, ${human_2.name}\")\n",
    "Human.desc()"
   ],
   "metadata": {
    "collapsed": false,
    "ExecuteTime": {
     "end_time": "2024-06-13T07:37:36.228163500Z",
     "start_time": "2024-06-13T07:37:35.860995700Z"
    }
   }
  },
  {
   "cell_type": "markdown",
   "source": [
    "伴生对象"
   ],
   "metadata": {
    "collapsed": false
   }
  },
  {
   "cell_type": "code",
   "execution_count": null,
   "outputs": [],
   "source": [
    "val human_3 = Human(\"张三\", \"男\")\n",
    "Human.desc()"
   ],
   "metadata": {
    "collapsed": false
   }
  }
 ],
 "metadata": {
  "kernelspec": {
   "display_name": "Kotlin",
   "language": "kotlin",
   "name": "kotlin"
  },
  "language_info": {
   "name": "kotlin",
   "version": "1.8.20",
   "mimetype": "text/x-kotlin",
   "file_extension": ".kt",
   "pygments_lexer": "kotlin",
   "codemirror_mode": "text/x-kotlin",
   "nbconvert_exporter": ""
  },
  "ktnbPluginMetadata": {
   "projectDependencies": true
  }
 },
 "nbformat": 4,
 "nbformat_minor": 0
}
