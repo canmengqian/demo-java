{
 "cells": [
  {
   "cell_type": "markdown",
   "source": [
    "隐式伴生对象\n",
    "1. 伴生对象每个类里只能有一个\n",
    "2. 所属类可以直接访问伴生对象中的属性和方法\n",
    "3. 所属类中的成员方法可以访问伴生对象中的属性和方法\n",
    "4. 伴生对象编译成一个静态类,所属对象创建了一个伴生类静态变量Companion\n",
    "5. 使用@JvmStatic注解，可以将伴生对象的成员生成为真正的静态方法和字段。\n",
    "6. 伴生类适用于工厂方法"
   ],
   "metadata": {
    "collapsed": false
   }
  },
  {
   "cell_type": "code",
   "execution_count": 2,
   "outputs": [
    {
     "name": "stdout",
     "output_type": "stream",
     "text": [
      "clz:656942786\r\n",
      "hello\r\n",
      "MyClass\r\n",
      "clz1:2122345481\r\n",
      "creat_1\r\n",
      "clz2:1738296502\r\n",
      "hello\r\n",
      "MyClass\r\n"
     ]
    }
   ],
   "source": [
    "class MyClass {\n",
    "    // 伴生对象每个类里只能有一个\n",
    "    companion object {\n",
    "        \n",
    "        // 方法简写\n",
    "        fun create() = MyClass()\n",
    "\n",
    "        // 普通方法\n",
    "        fun creat_1(): MyClass {\n",
    "            println(\"creat_1\")\n",
    "            return MyClass()\n",
    "        }\n",
    "\n",
    "        fun sayHello() {\n",
    "            println(\"hello\")\n",
    "        }\n",
    "        // 强制编译成所属类静态方法\n",
    "        @JvmStatic\n",
    "        fun sayHello_1() {\n",
    "            println(\"hello_1\")\n",
    "        }\n",
    "        @JvmStatic\n",
    "        val name_1 = \"MyClass\"\n",
    "        \n",
    "        val name = \"MyClass\"\n",
    "    }\n",
    "\n",
    "    fun printName() {\n",
    "        // 访问伴生对象中的属性\n",
    "        println(name)\n",
    "    }\n",
    "\n",
    "    fun printHello() {\n",
    "        // 调用伴生对象中的方法\n",
    "        sayHello()\n",
    "    }\n",
    "}\n",
    "// 实例化对象\n",
    "val clz = MyClass()\n",
    "println(\"clz:\" + clz.hashCode())\n",
    "clz.printHello()\n",
    "clz.printName()\n",
    "// 使用默认伴生对象创建实例\n",
    "val clz_1 = MyClass.Companion.create()\n",
    "println(\"clz1:\" + clz_1.hashCode())\n",
    "// 隐式访问伴生对象中的方法\n",
    "val clz_2 = MyClass.creat_1()\n",
    "println(\"clz2:\" + clz_2.hashCode())\n",
    "// 之间访问伴生对象的属性和方法\n",
    "MyClass.sayHello()\n",
    "println(MyClass.name)\n"
   ],
   "metadata": {
    "collapsed": false,
    "ExecuteTime": {
     "end_time": "2024-06-14T01:36:18.864746100Z",
     "start_time": "2024-06-14T01:36:18.269482200Z"
    }
   }
  },
  {
   "cell_type": "markdown",
   "source": [
    "具名伴生对象"
   ],
   "metadata": {
    "collapsed": false
   }
  },
  {
   "cell_type": "code",
   "execution_count": 3,
   "outputs": [
    {
     "name": "stdout",
     "output_type": "stream",
     "text": [
      "clz :916850626\r\n",
      "clz_1 :2057182115\r\n"
     ]
    }
   ],
   "source": [
    "class MyClass {\n",
    "    // 伴生对象每个类里只能有一个\n",
    "    companion object MyCompanion {\n",
    "        // 方法简写\n",
    "        fun create() = MyClass()\n",
    "\n",
    "        // 普通方法\n",
    "        fun creat_1(): MyClass {\n",
    "            println(\"creat_1\")\n",
    "            return MyClass()\n",
    "        }\n",
    "\n",
    "        fun sayHello() {\n",
    "            println(\"hello\")\n",
    "        }\n",
    "\n",
    "        val name = \"MyClass\"\n",
    "    }\n",
    "}\n",
    "// 显式调用具名伴生对象\n",
    "val clz = MyClass.MyCompanion.create()\n",
    "println(\"clz :\" + clz.hashCode())\n",
    "// 隐式调用具名伴生对象方法\n",
    "val clz_1 = MyClass.create()\n",
    "println(\"clz_1 :\" + clz_1.hashCode())"
   ],
   "metadata": {
    "collapsed": false,
    "ExecuteTime": {
     "end_time": "2024-06-14T01:40:47.683141200Z",
     "start_time": "2024-06-14T01:40:47.487940300Z"
    }
   }
  },
  {
   "cell_type": "markdown",
   "source": [
    "伴生对象实现接口"
   ],
   "metadata": {
    "collapsed": false
   }
  },
  {
   "cell_type": "code",
   "execution_count": 4,
   "outputs": [
    {
     "name": "stdout",
     "output_type": "stream",
     "text": [
      "action\r\n",
      "action\r\n"
     ]
    }
   ],
   "source": [
    "interface Action<T> {\n",
    "    fun action()\n",
    "}\n",
    "\n",
    "class MyClass {\n",
    "    \n",
    "    companion object : Action<MyClass> {\n",
    "        override fun action() {\n",
    "            println(\"action\")\n",
    "        }\n",
    "    }\n",
    "}\n",
    "// 伴生对象赋值\n",
    "val action: Action<MyClass> = MyClass\n",
    "action.action()\n",
    "// 直接调用伴生对象\n",
    "MyClass.action()"
   ],
   "metadata": {
    "collapsed": false,
    "ExecuteTime": {
     "end_time": "2024-06-14T01:46:48.566557900Z",
     "start_time": "2024-06-14T01:46:48.420642800Z"
    }
   }
  }
 ],
 "metadata": {
  "kernelspec": {
   "display_name": "Kotlin",
   "language": "kotlin",
   "name": "kotlin"
  },
  "language_info": {
   "name": "kotlin",
   "version": "1.8.20",
   "mimetype": "text/x-kotlin",
   "file_extension": ".kt",
   "pygments_lexer": "kotlin",
   "codemirror_mode": "text/x-kotlin",
   "nbconvert_exporter": ""
  },
  "ktnbPluginMetadata": {
   "projectDependencies": true
  }
 },
 "nbformat": 4,
 "nbformat_minor": 0
}
