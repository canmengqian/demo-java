{
 "cells": [
  {
   "cell_type": "markdown",
   "source": [
    "普通泛型"
   ],
   "metadata": {
    "collapsed": false
   }
  },
  {
   "cell_type": "code",
   "outputs": [
    {
     "name": "stdout",
     "output_type": "stream",
     "text": [
      "cut apple\r\n",
      "cut orange\r\n"
     ]
    }
   ],
   "source": [
    "class Game<T>(val t: T){\n",
    "    // 切水果游戏\n",
    "    fun cut(){\n",
    "        if(t is Fruit){\n",
    "             println(\"cut ${t.getN()}\")\n",
    "        }\n",
    "       \n",
    "    }\n",
    "}\n",
    "open class Fruit(var name:String){\n",
    "    open fun getN():String{\n",
    "        return name\n",
    "    }\n",
    "}\n",
    "class Apple(name:String):Fruit(name){\n",
    "    override fun getN():String{\n",
    "        return \"apple\"\n",
    "    }\n",
    "}\n",
    "class Orange(name:String):Fruit(name){\n",
    "    override fun getN():String{\n",
    "        return \"orange\"\n",
    "    }\n",
    "}\n",
    "val game = Game<Fruit>(Apple(\"apple\"))\n",
    "game.cut()\n",
    "val game2 = Game<Fruit>(Orange(\"orange\"))\n",
    "game2.cut()"
   ],
   "metadata": {
    "collapsed": false,
    "ExecuteTime": {
     "end_time": "2024-06-18T14:30:16.386744300Z",
     "start_time": "2024-06-18T14:30:16.113090600Z"
    }
   },
   "execution_count": 5
  },
  {
   "cell_type": "markdown",
   "source": [
    "上下界约束\n",
    "1. 多层上界约束 使用where关键字"
   ],
   "metadata": {
    "collapsed": false
   }
  },
  {
   "cell_type": "code",
   "outputs": [
    {
     "name": "stdout",
     "output_type": "stream",
     "text": [
      "cut apple\r\n",
      "fruit->apple type"
     ]
    }
   ],
   "source": [
    "// 仅对Fruit进行约束\n",
    "class Game<T:Fruit>(val t: T){\n",
    "    // 切水果游戏\n",
    "    fun cut(){\n",
    "        if(t is Fruit){\n",
    "             println(\"cut ${t.getN()}\")\n",
    "        }\n",
    "       \n",
    "    }\n",
    "}\n",
    "// 使用where关键字指定多个上界\n",
    "class Game2<T>(val t: T) where T:Fruit,T:Biology{\n",
    "    fun getBioType():String{\n",
    "        return t.biologType()\n",
    "    }\n",
    "    /*fun cut():String{\n",
    "        return t.getN()\n",
    "    }*/\n",
    "}\n",
    "\n",
    "interface  Biology{\n",
    "    fun biologType():String\n",
    "}\n",
    "open class Fruit(var name:String){\n",
    "    open fun getN():String{\n",
    "        return name\n",
    "    }\n",
    "}\n",
    "class Apple(name:String):Fruit(name),Biology{\n",
    "    override fun getN():String{\n",
    "        return \"apple\"\n",
    "    }\n",
    "    override fun biologType():String{\n",
    "        return \"fruit->apple type\"\n",
    "    }\n",
    "}\n",
    "class Orange(name:String):Fruit(name),Biology{\n",
    "    override fun getN():String{\n",
    "        return \"orange\"\n",
    "    }\n",
    "    override fun biologType():String{\n",
    "        return \"fruit->orange type\"\n",
    "    }\n",
    "}\n",
    "open  class Food(var name:String){\n",
    "    \n",
    "}\n",
    "class Beef(name:String):Food(name){\n",
    "}\n",
    "val game = Game<Fruit>(Apple(\"apple\"))\n",
    "game.cut()\n",
    "// 编译报错,有上界约束\n",
    "//val game2 = Game<Food>(Orange(\"orange\"))\n",
    "\n",
    "// 测试多层约束, 不能使用明确泛型<>\n",
    "val game2 = Game2(Apple(\"apple\"))\n",
    "print(game2.getBioType())"
   ],
   "metadata": {
    "collapsed": false,
    "ExecuteTime": {
     "end_time": "2024-06-18T14:48:39.422445100Z",
     "start_time": "2024-06-18T14:48:38.957880700Z"
    }
   },
   "execution_count": 7
  },
  {
   "cell_type": "markdown",
   "source": [
    "协变和逆变"
   ],
   "metadata": {
    "collapsed": false
   }
  },
  {
   "cell_type": "code",
   "outputs": [],
   "source": [
    "open class Human(){\n",
    "    \n",
    "}\n",
    "class Man:Human(){\n",
    "    \n",
    "}\n",
    "\n",
    "class Action{\n",
    "   \n",
    "    fun <T> add(t : T):Unit{\n",
    "        println(\"add $t\")\n",
    "    }\n",
    "    \n",
    "}"
   ],
   "metadata": {
    "collapsed": false
   }
  }
 ],
 "metadata": {
  "kernelspec": {
   "display_name": "Kotlin",
   "language": "kotlin",
   "name": "kotlin"
  },
  "language_info": {
   "name": "kotlin",
   "version": "1.9.0",
   "mimetype": "text/x-kotlin",
   "file_extension": ".kt",
   "pygments_lexer": "kotlin",
   "codemirror_mode": "text/x-kotlin",
   "nbconvert_exporter": ""
  }
 },
 "nbformat": 4,
 "nbformat_minor": 0
}
