{
 "cells": [
  {
   "cell_type": "markdown",
   "source": [
    "读文件"
   ],
   "metadata": {
    "collapsed": false
   }
  },
  {
   "cell_type": "code",
   "outputs": [
    {
     "name": "stdout",
     "output_type": "stream",
     "text": [
      "hello\r\n",
      "world\r\n"
     ]
    }
   ],
   "source": [
    "import java.io.File\n",
    "\n",
    "val file = File(\"D://test.txt\")\n",
    "val  content=file.readText()\n",
    "println(content)"
   ],
   "metadata": {
    "collapsed": false,
    "ExecuteTime": {
     "end_time": "2024-06-13T14:10:34.165615700Z",
     "start_time": "2024-06-13T14:10:33.733309700Z"
    }
   },
   "execution_count": 1
  },
  {
   "cell_type": "markdown",
   "source": [
    "写文件"
   ],
   "metadata": {
    "collapsed": false
   }
  },
  {
   "cell_type": "code",
   "outputs": [
    {
     "name": "stdout",
     "output_type": "stream",
     "text": [
      "你好\r\n"
     ]
    }
   ],
   "source": [
    "val file = File(\"D://test.txt\")\n",
    "file.setWritable(true)\n",
    "file.writeText(\"你好\")\n",
    "println(file.readText()) "
   ],
   "metadata": {
    "collapsed": false,
    "ExecuteTime": {
     "end_time": "2024-06-13T14:12:20.492332Z",
     "start_time": "2024-06-13T14:12:20.273729300Z"
    }
   },
   "execution_count": 2
  },
  {
   "cell_type": "markdown",
   "source": [
    "文件操作常用方法"
   ],
   "metadata": {
    "collapsed": false
   }
  },
  {
   "cell_type": "code",
   "outputs": [
    {
     "name": "stdout",
     "output_type": "stream",
     "text": [
      "文件是否存在：true\r\n",
      "文件是否存在：true\r\n",
      "是否是文件：true\r\n",
      "文件名：test.txt\r\n",
      "文件路径：D:\\test.txt\r\n",
      "文件大小： + 1\r\n",
      "是否绝对路径：true\r\n",
      "不变分隔符路径：D:/test.txt\r\n",
      "文件扩展名：txt\r\n"
     ]
    },
    {
     "data": {
      "text/plain": "true"
     },
     "execution_count": 8,
     "metadata": {},
     "output_type": "execute_result"
    }
   ],
   "source": [
    "val file = File(\"D://test.txt\")\n",
    "val n=file.exists()?:file.createNewFile()\n",
    "println(\"文件是否存在：\" + file.exists())\n",
    "println(\"是否是文件：\" + file.isFile())\n",
    "println(\"文件名：\" + file.name)\n",
    "println(\"文件路径：\" + file.absolutePath)\n",
    "println(\"文件大小： + ${file.length()}\")\n",
    "// 文件剩余空间\n",
    "file.freeSpace\n",
    "// 文件修改时间\n",
    "file.lastModified()\n",
    "\n",
    "println(\"是否绝对路径：\" + file.isAbsolute)\n",
    "file.isHidden\n",
    "// 是否是目录\n",
    "file.isDirectory\n",
    "// 是否是根目录\n",
    "file.isRooted\n",
    "// 路径分隔符\n",
    "println(\"不变分隔符路径：\" + file.invariantSeparatorsPath)\n",
    "file.parent\n",
    "file.canonicalPath\n",
    "file.totalSpace\n",
    "file.canRead()\n",
    "file.canWrite()\n",
    "file.canExecute()\n",
    "println(\"文件扩展名：\" + file.extension)\n",
    "// 追加文件\n",
    "file.appendBytes(ByteArray(1))\n",
    "// 文件拷贝\n",
    "file.copyTo(File(\"D://test_1.txt\"),true)\n",
    "// 文件重命名\n",
    "file.renameTo(File(\"D://test_2.txt\"))\n",
    "// 删除文件\n",
    "file.delete()"
   ],
   "metadata": {
    "collapsed": false,
    "ExecuteTime": {
     "end_time": "2024-06-13T14:31:39.222725Z",
     "start_time": "2024-06-13T14:31:38.905914800Z"
    }
   },
   "execution_count": 8
  }
 ],
 "metadata": {
  "kernelspec": {
   "display_name": "Kotlin",
   "language": "kotlin",
   "name": "kotlin"
  },
  "language_info": {
   "name": "kotlin",
   "version": "1.9.0",
   "mimetype": "text/x-kotlin",
   "file_extension": ".kt",
   "pygments_lexer": "kotlin",
   "codemirror_mode": "text/x-kotlin",
   "nbconvert_exporter": ""
  }
 },
 "nbformat": 4,
 "nbformat_minor": 0
}
