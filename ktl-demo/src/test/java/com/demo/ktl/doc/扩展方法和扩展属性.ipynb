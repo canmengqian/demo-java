{
 "cells": [
  {
   "cell_type": "markdown",
   "source": [
    "扩展方法和扩展属性\n",
    "1. 扩展方法和扩展属性\n",
    "2. 扩展伴生类的方法和属性"
   ],
   "metadata": {
    "collapsed": false
   }
  },
  {
   "cell_type": "code",
   "execution_count": 3,
   "outputs": [
    {
     "name": "stdout",
     "output_type": "stream",
     "text": [
      "person's type:name\r\n",
      "person's age is 18\r\n"
     ]
    }
   ],
   "source": [
    "class Person {\n",
    "\n",
    "\n",
    "}\n",
    "\n",
    "// 扩展方法\n",
    "fun Person.getType(type: String): String {\n",
    "    return \"person's type:\" + type\n",
    "}\n",
    "// 扩展属性\n",
    "val Person.age: Int\n",
    "    get() {\n",
    "        return 18\n",
    "    }\n",
    "val person = Person()\n",
    "println(person.getType(\"name\"))\n",
    "println(\"person's age is ${person.age}\")"
   ],
   "metadata": {
    "collapsed": false,
    "ExecuteTime": {
     "end_time": "2024-06-17T03:18:18.959754700Z",
     "start_time": "2024-06-17T03:18:18.621656Z"
    }
   }
  },
  {
   "cell_type": "markdown",
   "source": [
    "扩展伴生类的方法和属性"
   ],
   "metadata": {
    "collapsed": false
   }
  },
  {
   "cell_type": "code",
   "execution_count": 6,
   "outputs": [
    {
     "name": "stdout",
     "output_type": "stream",
     "text": [
      "person's name is person's name is bob\r\n",
      "person's age is 18\r\n"
     ]
    }
   ],
   "source": [
    "class Person {\n",
    "    companion object {\n",
    "        fun getType(type: String): String {\n",
    "            return \"person's type:\" + type\n",
    "        }\n",
    "\n",
    "\n",
    "    }\n",
    "}\n",
    "\n",
    "fun Person.Companion.getName(name: String): String {\n",
    "    return \"person's name is $name\"\n",
    "}\n",
    "\n",
    "var Person.Companion.age: Int\n",
    "    get() {\n",
    "        return 18\n",
    "    }\n",
    "    set(value) {\n",
    "        this.age = value\n",
    "    }\n",
    "\n",
    "// 测试伴生类的方法和属性\n",
    "val person = Person()\n",
    "Person.getType(\"aa\")\n",
    "val name = Person.getName(\"bob\")\n",
    "println(\"person's name is $name\")\n",
    "val age = Person.age\n",
    "println(\"person's age is $age\")\n"
   ],
   "metadata": {
    "collapsed": false,
    "ExecuteTime": {
     "end_time": "2024-06-17T03:28:38.473869800Z",
     "start_time": "2024-06-17T03:28:38.274140800Z"
    }
   }
  }
 ],
 "metadata": {
  "kernelspec": {
   "display_name": "Kotlin",
   "language": "kotlin",
   "name": "kotlin"
  },
  "language_info": {
   "name": "kotlin",
   "version": "1.8.20",
   "mimetype": "text/x-kotlin",
   "file_extension": ".kt",
   "pygments_lexer": "kotlin",
   "codemirror_mode": "text/x-kotlin",
   "nbconvert_exporter": ""
  },
  "ktnbPluginMetadata": {
   "projectDependencies": true
  }
 },
 "nbformat": 4,
 "nbformat_minor": 0
}
