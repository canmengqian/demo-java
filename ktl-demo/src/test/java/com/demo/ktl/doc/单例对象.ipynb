{
 "cells": [
  {
   "cell_type": "markdown",
   "source": [
    "单例对象"
   ],
   "metadata": {
    "collapsed": false
   }
  },
  {
   "cell_type": "code",
   "outputs": [
    {
     "name": "stdout",
     "output_type": "stream",
     "text": [
      "2140481596\r\n",
      "2140481596\r\n"
     ]
    }
   ],
   "source": [
    "object Person{\n",
    "    val name=\"张三\"\n",
    "    val age=18\n",
    "    val sex=\"男\"\n",
    "    val salary= 2400\n",
    "}\n",
    "val p =Person\n",
    "println(p.hashCode())\n",
    "val p_1 = Person\n",
    "println(p_1.hashCode())\n"
   ],
   "metadata": {
    "collapsed": false,
    "ExecuteTime": {
     "end_time": "2024-06-17T14:53:01.433855500Z",
     "start_time": "2024-06-17T14:53:01.264683400Z"
    }
   },
   "execution_count": 7
  }
 ],
 "metadata": {
  "kernelspec": {
   "display_name": "Kotlin",
   "language": "kotlin",
   "name": "kotlin"
  },
  "language_info": {
   "name": "kotlin",
   "version": "1.9.0",
   "mimetype": "text/x-kotlin",
   "file_extension": ".kt",
   "pygments_lexer": "kotlin",
   "codemirror_mode": "text/x-kotlin",
   "nbconvert_exporter": ""
  }
 },
 "nbformat": 4,
 "nbformat_minor": 0
}
