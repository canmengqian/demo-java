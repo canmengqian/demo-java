{
 "cells": [
  {
   "cell_type": "code",
   "execution_count": null,
   "metadata": {
    "collapsed": true,
    "ExecuteTime": {
     "end_time": "2024-06-17T07:38:59.856790800Z",
     "start_time": "2024-06-17T07:38:56.871107900Z"
    }
   },
   "outputs": [
    {
     "name": "stderr",
     "output_type": "stream",
     "text": [
      "The execution was interrupted"
     ]
    }
   ],
   "source": [
    "%use kandy\n",
    "%use dataframe\n",
    "// Create a DataFrame with data on average temperatures in various cities\n",
    "val averageTemperature = dataFrameOf(\n",
    "    \"city\" to listOf(\"New York\", \"London\", \"Berlin\", \"Yerevan\", \"Tokyo\"),\n",
    "    \"average temperature\" to listOf(12.5, 11.0, 9.6, 11.5, 16.0)\n",
    ")\n",
    "// Construct a plot using the data from the DataFrame\n",
    "averageTemperature.plot {\n",
    "    // Add bars to the plot\n",
    "    // Each bar represents the average temperature in a city\n",
    "    bars {\n",
    "        x(city) // Set the cities' data on the X-axis\n",
    "        y(`average temperature`) { // Set the temperatures' data on the Y-axis\n",
    "            axis.name = \"Average Temperature (°C)\" // Assign a name to the Y-axis\n",
    "        }\n",
    "    }\n",
    "    // Set the title of the plot\n",
    "    layout.title = \"Kandy Getting Started Example\"\n",
    "}"
   ]
  },
  {
   "cell_type": "code",
   "execution_count": null,
   "outputs": [],
   "source": [],
   "metadata": {
    "collapsed": false
   }
  }
 ],
 "metadata": {
  "kernelspec": {
   "display_name": "Kotlin",
   "language": "kotlin",
   "name": "kotlin"
  },
  "language_info": {
   "name": "kotlin",
   "version": "1.8.20",
   "mimetype": "text/x-kotlin",
   "file_extension": ".kt",
   "pygments_lexer": "kotlin",
   "codemirror_mode": "text/x-kotlin",
   "nbconvert_exporter": ""
  },
  "ktnbPluginMetadata": {
   "projectDependencies": true
  }
 },
 "nbformat": 4,
 "nbformat_minor": 0
}
