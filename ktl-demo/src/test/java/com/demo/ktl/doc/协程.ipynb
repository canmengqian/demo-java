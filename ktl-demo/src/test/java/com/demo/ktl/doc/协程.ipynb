{
 "cells": [
  {
   "cell_type": "markdown",
   "source": [
    "协程基础"
   ],
   "metadata": {
    "collapsed": false
   }
  },
  {
   "cell_type": "code",
   "execution_count": 10,
   "outputs": [],
   "source": [
    "import kotlinx.coroutines.Dispatchers\n",
    "import kotlinx.coroutines.GlobalScope\n",
    "import kotlinx.coroutines.delay\n",
    "import kotlinx.coroutines.launch\n",
    "\n",
    "fun test(): Unit {\n",
    "    GlobalScope.launch(context = Dispatchers.IO) {\n",
    "        delay(1000)\n",
    "        println(\"Hello\")\n",
    "    }\n",
    "}\n",
    "test()\n",
    "\n"
   ],
   "metadata": {
    "collapsed": false,
    "ExecuteTime": {
     "end_time": "2024-06-20T03:04:20.173671500Z",
     "start_time": "2024-06-20T03:04:19.922672300Z"
    }
   }
  }
 ],
 "metadata": {
  "kernelspec": {
   "display_name": "Kotlin",
   "language": "kotlin",
   "name": "kotlin"
  },
  "language_info": {
   "name": "kotlin",
   "version": "1.8.20",
   "mimetype": "text/x-kotlin",
   "file_extension": ".kt",
   "pygments_lexer": "kotlin",
   "codemirror_mode": "text/x-kotlin",
   "nbconvert_exporter": ""
  },
  "ktnbPluginMetadata": {
   "projectDependencies": true
  }
 },
 "nbformat": 4,
 "nbformat_minor": 0
}
