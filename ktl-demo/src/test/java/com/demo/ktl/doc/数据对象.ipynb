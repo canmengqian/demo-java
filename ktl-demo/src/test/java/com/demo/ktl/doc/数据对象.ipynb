{
 "cells": [
  {
   "cell_type": "markdown",
   "source": [
    "数据对象"
   ],
   "metadata": {
    "collapsed": false
   }
  },
  {
   "cell_type": "code",
   "execution_count": 4,
   "outputs": [
    {
     "name": "stdout",
     "output_type": "stream",
     "text": [
      "Employee(age=20, name=234)\r\n",
      "{\"age\":20,\"name\":\"zhangsan\"}\r\n"
     ]
    }
   ],
   "source": [
    "import cn.hutool.json.JSON\n",
    "import cn.hutool.json.JSONUtil\n",
    "import com.fasterxml.jackson.databind.ObjectMapper\n",
    "import com.fasterxml.jackson.module.kotlin.registerKotlinModule\n",
    "\n",
    "data class Employee(val age: Int, val name: String) {\n",
    "}\n",
    "\n",
    "class Employee1(val age: Int, val name: String) {\n",
    "}\n",
    "\n",
    "val employee = Employee(20, \"zhangsan\")\n",
    "val json: String = \"\"\"{\"name\":\"234\",\"age\":20}\"\"\"\n",
    "val mapper = ObjectMapper().registerKotlinModule()\n",
    "val jsobObj = mapper.readValue(json, Employee::class.java)\n",
    "println(jsobObj.toString())\n",
    "\n",
    "// 对象转换为json\n",
    "val json1 = mapper.writeValueAsString(employee)\n",
    "println(json1)\n",
    "\n",
    "\n"
   ],
   "metadata": {
    "collapsed": false,
    "ExecuteTime": {
     "end_time": "2024-06-17T08:21:14.335093800Z",
     "start_time": "2024-06-17T08:21:14.040482800Z"
    }
   }
  }
 ],
 "metadata": {
  "kernelspec": {
   "display_name": "Kotlin",
   "language": "kotlin",
   "name": "kotlin"
  },
  "language_info": {
   "name": "kotlin",
   "version": "1.8.20",
   "mimetype": "text/x-kotlin",
   "file_extension": ".kt",
   "pygments_lexer": "kotlin",
   "codemirror_mode": "text/x-kotlin",
   "nbconvert_exporter": ""
  },
  "ktnbPluginMetadata": {
   "projectDependencies": true
  }
 },
 "nbformat": 4,
 "nbformat_minor": 0
}
