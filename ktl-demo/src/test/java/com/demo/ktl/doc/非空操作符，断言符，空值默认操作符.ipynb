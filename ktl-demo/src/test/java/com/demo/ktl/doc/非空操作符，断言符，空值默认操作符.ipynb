{
 "cells": [
  {
   "cell_type": "markdown",
   "source": [
    "可空操作符，断言符，空值默认操作符"
   ],
   "metadata": {
    "collapsed": false
   }
  },
  {
   "cell_type": "code",
   "execution_count": 6,
   "outputs": [
    {
     "name": "stdout",
     "output_type": "stream",
     "text": [
      "a 是null:true\r\n",
      "空对象\r\n",
      "b:HELLO\r\n",
      "hello\r\n"
     ]
    }
   ],
   "source": [
    "// 可空操作符\n",
    "var a: String?= null\n",
    "println(\"a 是null:${a.isNullOrBlank()}\")\n",
    "// 断言符不确定非null时，需要catch捕获\n",
    "val a_1=runCatching {\n",
    "    a!!.uppercase()\n",
    "}.getOrElse { \"空对象\" }\n",
    "println(a_1)\n",
    "// 空值默认操作符\n",
    "a = a ?: \"hello\"\n",
    "val b = a!!.uppercase()\n",
    "println(\"b:$b\")\n",
    "println(\"${a}\")"
   ],
   "metadata": {
    "collapsed": false,
    "ExecuteTime": {
     "end_time": "2024-06-14T04:45:24.921021600Z",
     "start_time": "2024-06-14T04:45:24.563815Z"
    }
   }
  }
 ],
 "metadata": {
  "kernelspec": {
   "display_name": "Kotlin",
   "language": "kotlin",
   "name": "kotlin"
  },
  "language_info": {
   "name": "kotlin",
   "version": "1.8.20",
   "mimetype": "text/x-kotlin",
   "file_extension": ".kt",
   "pygments_lexer": "kotlin",
   "codemirror_mode": "text/x-kotlin",
   "nbconvert_exporter": ""
  },
  "ktnbPluginMetadata": {
   "projectDependencies": true
  }
 },
 "nbformat": 4,
 "nbformat_minor": 0
}
