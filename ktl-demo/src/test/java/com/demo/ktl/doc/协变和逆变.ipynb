{
 "cells": [
  {
   "cell_type": "markdown",
   "source": [
    "逆变"
   ],
   "metadata": {
    "collapsed": false
   }
  },
  {
   "cell_type": "code",
   "execution_count": null,
   "outputs": [],
   "source": [
    "open class Human {\n",
    "    open fun eat(food: String) {\n",
    "        println(\"Human eat $food\")\n",
    "    }\n",
    "}\n",
    "\n",
    "open class Man : Human() {\n",
    "    override fun eat(food: String) {\n",
    "        println(\"Man eat $food\")\n",
    "    }\n",
    "}\n",
    "\n",
    "class Woman : Human() {\n",
    "    override fun eat(food: String) {\n",
    "        println(\"Woman eat $food\")\n",
    "    }\n",
    "}\n",
    "\n",
    "class Worker : Man() {\n",
    "    fun work() {\n",
    "        println(\"worker work\")\n",
    "    }\n",
    "}\n",
    "\n",
    "class Who<T>(val t : T) where  T : Human {\n",
    "    fun eat() {\n",
    "        t.eat(\"apple\")\n",
    "    }\n",
    "}"
   ],
   "metadata": {
    "collapsed": false
   }
  },
  {
   "cell_type": "markdown",
   "source": [
    "java数组是协变"
   ],
   "metadata": {
    "collapsed": false
   }
  },
  {
   "cell_type": "code",
   "execution_count": null,
   "outputs": [],
   "source": [],
   "metadata": {
    "collapsed": false
   }
  }
 ],
 "metadata": {
  "kernelspec": {
   "display_name": "Kotlin",
   "language": "kotlin",
   "name": "kotlin"
  },
  "language_info": {
   "name": "kotlin",
   "version": "1.8.20",
   "mimetype": "text/x-kotlin",
   "file_extension": ".kt",
   "pygments_lexer": "kotlin",
   "codemirror_mode": "text/x-kotlin",
   "nbconvert_exporter": ""
  },
  "ktnbPluginMetadata": {
   "projectDependencies": true
  }
 },
 "nbformat": 4,
 "nbformat_minor": 0
}
