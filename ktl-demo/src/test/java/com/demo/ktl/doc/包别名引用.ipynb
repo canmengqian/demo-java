{
 "cells": [
  {
   "cell_type": "markdown",
   "source": [
    "给包起别名"
   ],
   "metadata": {
    "collapsed": false
   }
  },
  {
   "cell_type": "code",
   "execution_count": 3,
   "outputs": [
    {
     "name": "stdout",
     "output_type": "stream",
     "text": [
      "ktl.basic.Animal\r\n",
      "Animal\r\n",
      "ktl.basic.Animal\r\n"
     ]
    }
   ],
   "source": [
    "import ktl.basic.Animal as ani\n",
    "// 路径使用别名了,无法使用原路径类\n",
    "// val animal = Animal()\n",
    "val animal = ani()\n",
    "println(animal.javaClass.name)\n",
    "println(animal.javaClass.simpleName)\n",
    "println(animal.javaClass.canonicalName)"
   ],
   "metadata": {
    "collapsed": false,
    "ExecuteTime": {
     "end_time": "2024-06-13T07:25:51.622290400Z",
     "start_time": "2024-06-13T07:25:51.261919200Z"
    }
   }
  }
 ],
 "metadata": {
  "kernelspec": {
   "display_name": "Kotlin",
   "language": "kotlin",
   "name": "kotlin"
  },
  "language_info": {
   "name": "kotlin",
   "version": "1.8.20",
   "mimetype": "text/x-kotlin",
   "file_extension": ".kt",
   "pygments_lexer": "kotlin",
   "codemirror_mode": "text/x-kotlin",
   "nbconvert_exporter": ""
  },
  "ktnbPluginMetadata": {
   "projectDependencies": true
  }
 },
 "nbformat": 4,
 "nbformat_minor": 0
}
