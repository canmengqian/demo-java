{
 "cells": [
  {
   "cell_type": "markdown",
   "source": [
    "不可变列表和可变列表"
   ],
   "metadata": {
    "collapsed": false
   }
  },
  {
   "cell_type": "code",
   "execution_count": 3,
   "outputs": [
    {
     "name": "stdout",
     "output_type": "stream",
     "text": [
      "添加元素成功\r\n",
      "[1, 2]\r\n",
      "[1, 2, 3, 4]\r\n"
     ]
    }
   ],
   "source": [
    "var list = listOf(1, 2, 3)\n",
    "list = kotlin.runCatching { list.dropLast(1) }\n",
    "    .onFailure { it -> println(it.message) }\n",
    "    .onSuccess { println(\"添加元素成功\") }\n",
    "    .getOrNull() ?: listOf()\n",
    "    println(list)\n",
    "val mutableList = mutableListOf(1, 2, 3)\n",
    "mutableList.add(4)\n",
    "println(mutableList)"
   ],
   "metadata": {
    "collapsed": false,
    "ExecuteTime": {
     "end_time": "2024-06-12T15:27:40.917750Z",
     "start_time": "2024-06-12T15:27:40.522040900Z"
    }
   }
  },
  {
   "cell_type": "markdown",
   "source": [
    "列表常用方法"
   ],
   "metadata": {
    "collapsed": false
   }
  },
  {
   "cell_type": "code",
   "execution_count": 3,
   "outputs": [
    {
     "name": "stdout",
     "output_type": "stream",
     "text": [
      "列表元素:[1, 2, 3]\r\n",
      "反转列表:[3, 2, 1]\r\n",
      "获取满足指定条件的元素个数:1\r\n",
      "将列表分割成指定长度的子列表:[[1, 2], [3]]\r\n",
      "chunk操作:[1, 2]\r\n",
      "chunk操作:[3]\r\n",
      "去重操作前:[1, 2, 3, 1]\r\n",
      "去重操作后:[1, 2, 3]\r\n",
      "drop前列表:[1, 2, 3, 1]\r\n",
      "drop第一个索引元素操作:[2, 3, 1]\r\n",
      "dropLast操作:[1, 2, 3]\r\n",
      "dropWhile操作:[1, 2, 3, 1]\r\n",
      "获取指定下标的元素:2\r\n",
      "列表索引范围:0..3\r\n",
      "列表是否为空:false\r\n",
      "列表是否非空:true\r\n",
      "false\r\n",
      "1123, 2123, 3123, 1123\r\n",
      "指定分隔符,前缀,后缀:[1-2-3-1]\r\n",
      "take操作:[1]\r\n",
      "index:0,item:1\r\n",
      "index:1,item:2\r\n",
      "index:2,item:3\r\n",
      "index:3,item:1\r\n"
     ]
    },
    {
     "name": "stderr",
     "output_type": "stream",
     "text": [
      "List is empty.\r\n",
      "java.util.NoSuchElementException: List is empty.\r\n",
      "\tat kotlin.collections.CollectionsKt__MutableCollectionsKt.removeLast(MutableCollections.kt:260)\r\n",
      "\tat Line_3_jupyter.<init>(Line_3.jupyter.kts:74)\r\n",
      "\tat java.base/jdk.internal.reflect.NativeConstructorAccessorImpl.newInstance0(Native Method)\r\n",
      "\tat java.base/jdk.internal.reflect.NativeConstructorAccessorImpl.newInstance(NativeConstructorAccessorImpl.java:77)\r\n",
      "\tat java.base/jdk.internal.reflect.DelegatingConstructorAccessorImpl.newInstance(DelegatingConstructorAccessorImpl.java:45)\r\n",
      "\tat java.base/java.lang.reflect.Constructor.newInstanceWithCaller(Constructor.java:499)\r\n",
      "\tat java.base/java.lang.reflect.Constructor.newInstance(Constructor.java:480)\r\n",
      "\tat kotlin.script.experimental.jvm.BasicJvmScriptEvaluator.evalWithConfigAndOtherScriptsResults(BasicJvmScriptEvaluator.kt:105)\r\n",
      "\tat kotlin.script.experimental.jvm.BasicJvmScriptEvaluator.invoke$suspendImpl(BasicJvmScriptEvaluator.kt:47)\r\n",
      "\tat kotlin.script.experimental.jvm.BasicJvmScriptEvaluator.invoke(BasicJvmScriptEvaluator.kt)\r\n",
      "\tat kotlin.script.experimental.jvm.BasicJvmReplEvaluator.eval(BasicJvmReplEvaluator.kt:49)\r\n",
      "\tat org.jetbrains.kotlinx.jupyter.repl.impl.InternalEvaluatorImpl$eval$resultWithDiagnostics$1.invokeSuspend(InternalEvaluatorImpl.kt:103)\r\n",
      "\tat kotlin.coroutines.jvm.internal.BaseContinuationImpl.resumeWith(ContinuationImpl.kt:33)\r\n",
      "\tat kotlinx.coroutines.DispatchedTask.run(DispatchedTask.kt:106)\r\n",
      "\tat kotlinx.coroutines.EventLoopImplBase.processNextEvent(EventLoop.common.kt:284)\r\n",
      "\tat kotlinx.coroutines.BlockingCoroutine.joinBlocking(Builders.kt:85)\r\n",
      "\tat kotlinx.coroutines.BuildersKt__BuildersKt.runBlocking(Builders.kt:59)\r\n",
      "\tat kotlinx.coroutines.BuildersKt.runBlocking(Unknown Source)\r\n",
      "\tat kotlinx.coroutines.BuildersKt__BuildersKt.runBlocking$default(Builders.kt:38)\r\n",
      "\tat kotlinx.coroutines.BuildersKt.runBlocking$default(Unknown Source)\r\n",
      "\tat org.jetbrains.kotlinx.jupyter.repl.impl.InternalEvaluatorImpl.eval(InternalEvaluatorImpl.kt:103)\r\n",
      "\tat org.jetbrains.kotlinx.jupyter.repl.impl.CellExecutorImpl$execute$1$result$1.invoke(CellExecutorImpl.kt:75)\r\n",
      "\tat org.jetbrains.kotlinx.jupyter.repl.impl.CellExecutorImpl$execute$1$result$1.invoke(CellExecutorImpl.kt:73)\r\n",
      "\tat org.jetbrains.kotlinx.jupyter.ReplForJupyterImpl.withHost(repl.kt:666)\r\n",
      "\tat org.jetbrains.kotlinx.jupyter.repl.impl.CellExecutorImpl.execute(CellExecutorImpl.kt:73)\r\n",
      "\tat org.jetbrains.kotlinx.jupyter.repl.CellExecutor$DefaultImpls.execute$default(CellExecutor.kt:15)\r\n",
      "\tat org.jetbrains.kotlinx.jupyter.ReplForJupyterImpl$evalEx$1.invoke(repl.kt:479)\r\n",
      "\tat org.jetbrains.kotlinx.jupyter.ReplForJupyterImpl$evalEx$1.invoke(repl.kt:470)\r\n",
      "\tat org.jetbrains.kotlinx.jupyter.ReplForJupyterImpl.withEvalContext(repl.kt:433)\r\n",
      "\tat org.jetbrains.kotlinx.jupyter.ReplForJupyterImpl.evalEx(repl.kt:470)\r\n",
      "\tat org.jetbrains.kotlinx.jupyter.messaging.ProtocolKt$shellMessagesHandler$2$res$1.invoke(protocol.kt:318)\r\n",
      "\tat org.jetbrains.kotlinx.jupyter.messaging.ProtocolKt$shellMessagesHandler$2$res$1.invoke(protocol.kt:312)\r\n",
      "\tat org.jetbrains.kotlinx.jupyter.JupyterExecutorImpl$runExecution$execThread$1.invoke(execution.kt:37)\r\n",
      "\tat org.jetbrains.kotlinx.jupyter.JupyterExecutorImpl$runExecution$execThread$1.invoke(execution.kt:32)\r\n",
      "\tat kotlin.concurrent.ThreadsKt$thread$thread$1.run(Thread.kt:30)\r\n"
     ]
    }
   ],
   "source": [
    "// 构造可变列表\n",
    "var list: MutableList<Int> = mutableListOf<Int>()\n",
    "list.add(1)\n",
    "list.addAll(mutableListOf(2, 3))\n",
    "println(\"列表元素:${list}\")\n",
    "//反转列表\n",
    "val list_1 = list.asReversed()\n",
    "println(\"反转列表:${list_1}\")\n",
    "// 是否包含指定元素\n",
    "list.contains(1)\n",
    "// 获取列表长度\n",
    "list.count()\n",
    "// 获取满足指定条件的元素个数\n",
    "var cnt_2 = list.count { it > 2 }\n",
    "println(\"获取满足指定条件的元素个数:${cnt_2}\")\n",
    "// 将列表分割成指定长度的子列表\n",
    "val chunk = list.chunked(2)\n",
    "println(\"将列表分割成指定长度的子列表:${chunk}\")\n",
    "list.chunked(2, { println(\"chunk操作:${it}\") })\n",
    "// 去重操作\n",
    "list.add(1)\n",
    "println(\"去重操作前:${list}\")\n",
    "//去重操作转为不可变列表\n",
    "var list_2 = list.distinct()\n",
    "println(\"去重操作后:${list_2}\")\n",
    "// drop会产生一个新只读列表而不会修改原列表\n",
    "println(\"drop前列表:${list}\")\n",
    "val list_3 = list.drop(1)\n",
    "println(\"drop第一个索引元素操作:${list_3}\")\n",
    "\n",
    "val list_4 = list.dropLast(1)\n",
    "println(\"dropLast操作:${list_4}\")\n",
    "// 按条件去除\n",
    "val list_5 = list.dropWhile { it >= 2 }\n",
    "println(\"dropWhile操作:${list_5}\")\n",
    "// 遍历\n",
    "// 查找和快速查找\n",
    "// 过滤\n",
    "// map操作\n",
    "// 填充\n",
    "println(\"获取指定下标的元素:${list.get(1)}\")\n",
    "// 按值获取对应的索引下标\n",
    "list.indexOf(0)\n",
    "// 获取条件成立的第一个下标\n",
    "list.indexOfFirst { it == 2 }\n",
    "// 获取条件成立的最后一个下标\n",
    "list.indexOfLast { it == 2 }\n",
    "println(\"列表索引范围:${list.indices}\")\n",
    "println(\"列表是否为空:${list.isEmpty()}\")\n",
    "println(\"列表是否非空:${list.isNotEmpty()}\")\n",
    "println(list.isNullOrEmpty())\n",
    "// 迭代器模式遍历\n",
    "list.iterator().forEach { it }\n",
    "//list.joinTo()\n",
    "// 将列表转换为字符串\n",
    "println(list.joinToString { it.toString() + \"123\" })\n",
    "println(\"指定分隔符,前缀,后缀:\" + list.joinToString(\"-\", \"[\", \"]\"))\n",
    "var list_6 = list.take(1)\n",
    "println(\"take操作:${list_6}\")\n",
    "list.last()\n",
    "list.lastIndex\n",
    "list.lastOrNull()\n",
    "list.lastOrNull { it > 8 }\n",
    "list.map { it + 2 }\n",
    "list.mapIndexed({ index, item -> index + item })\n",
    "list.mapNotNull {  }\n",
    "list.onEach { it }\n",
    "list.onEachIndexed({ index, item -> println(\"index:${index},item:${item}\")})\n",
    "list.remove(1)\n",
    "list.removeAll { it > 2 }\n",
    "list.removeAt(1)\n",
    "list.removeFirst()\n",
    "list.removeFirstOrNull()\n",
    "list.removeLast()\n",
    "list.removeLastOrNull()\n",
    "list.reversed()\n",
    "list.set(1,2)\n",
    "list.shuffle()\n",
    "list.shuffled()\n",
    "list.sorted()\n",
    "list.size\n",
    "list.sum()\n",
    "list.subList(0,3)\n",
    "list.windowed(2)\n",
    "//list.zip()\n"
   ],
   "metadata": {
    "collapsed": false,
    "ExecuteTime": {
     "end_time": "2024-06-13T09:02:29.169647600Z",
     "start_time": "2024-06-13T09:02:27.941752200Z"
    }
   }
  },
  {
   "cell_type": "markdown",
   "source": [
    "Set操作"
   ],
   "metadata": {
    "collapsed": false
   }
  },
  {
   "cell_type": "code",
   "execution_count": 5,
   "outputs": [
    {
     "name": "stdout",
     "output_type": "stream",
     "text": [
      "(1, 4)\r\n",
      "(2, 5)\r\n",
      "(3, 6)\r\n",
      "解压缩后的列表 1:[1, 2, 3]\r\n",
      "解压缩后的列表 2:[4, 5, 6]\r\n"
     ]
    }
   ],
   "source": [
    "val st = setOf(1, 2, 3)\n",
    "st.toList()"
   ],
   "metadata": {
    "collapsed": false,
    "ExecuteTime": {
     "end_time": "2024-06-13T09:05:07.454844500Z",
     "start_time": "2024-06-13T09:05:07.264131300Z"
    }
   }
  },
  {
   "cell_type": "markdown",
   "source": [
    "map操作"
   ],
   "metadata": {
    "collapsed": false
   }
  },
  {
   "cell_type": "code",
   "execution_count": 6,
   "outputs": [
    {
     "name": "stdout",
     "output_type": "stream",
     "text": [
      "even:[2, 4, 6]\r\n",
      "odd:[1, 3, 5]\r\n"
     ]
    }
   ],
   "source": [
    "var map = mapOf(1 to \"a\", 2 to \"b\", 3 to \"c\")\n",
    "\n",
    "println(\"获取键值对:${map.entries}\")\n",
    "println(\"获取键:${map.keys}\")\n",
    "println(\"获取值:${map.values}\")"
   ],
   "metadata": {
    "collapsed": false,
    "ExecuteTime": {
     "end_time": "2024-06-13T09:06:12.665563700Z",
     "start_time": "2024-06-13T09:06:12.493625300Z"
    }
   }
  }
 ],
 "metadata": {
  "kernelspec": {
   "display_name": "Kotlin",
   "language": "kotlin",
   "name": "kotlin"
  },
  "language_info": {
   "name": "kotlin",
   "version": "1.8.20",
   "mimetype": "text/x-kotlin",
   "file_extension": ".kt",
   "pygments_lexer": "kotlin",
   "codemirror_mode": "text/x-kotlin",
   "nbconvert_exporter": ""
  },
  "ktnbPluginMetadata": {
   "projectDependencies": true
  }
 },
 "nbformat": 4,
 "nbformat_minor": 0
}
